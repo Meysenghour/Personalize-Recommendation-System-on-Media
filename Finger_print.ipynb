{
 "cells": [
  {
   "cell_type": "code",
   "execution_count": 6,
   "metadata": {},
   "outputs": [
    {
     "name": "stdout",
     "output_type": "stream",
     "text": [
      "Data DataFrame:\n",
      "   id preference_type  view_count                     created_at  \\\n",
      "0  30           TOPIC           1  2024-05-08 10:10:02.052 +0700   \n",
      "1   1            POST           2  2024-04-08 16:46:09.275 +0700   \n",
      "2   2           TOPIC           2  2024-04-08 16:46:09.289 +0700   \n",
      "3   3           TOPIC           2  2024-04-08 16:46:09.299 +0700   \n",
      "4  31           TOPIC           1  2024-05-08 10:10:02.064 +0700   \n",
      "\n",
      "                      updated_at  post_id  topic_id  user_id  \\\n",
      "0  2024-05-08 10:10:02.057 +0700      NaN      55.0      NaN   \n",
      "1  2024-04-08 16:49:20.785 +0700   1721.0       NaN    185.0   \n",
      "2  2024-04-08 16:49:20.800 +0700      NaN       6.0    185.0   \n",
      "3  2024-04-08 16:49:20.818 +0700      NaN      56.0    185.0   \n",
      "4  2024-05-08 10:10:02.070 +0700      NaN      32.0      NaN   \n",
      "\n",
      "                    finger_print_id  \n",
      "0  77d2b1f001cedff9a9a182fdda0c3cac  \n",
      "1                               NaN  \n",
      "2                               NaN  \n",
      "3                               NaN  \n",
      "4  77d2b1f001cedff9a9a182fdda0c3cac  \n",
      "\n",
      "Input Data DataFrame:\n",
      "                    finger_print_id  post_id\n",
      "0  77d2b1f001cedff9a9a182fdda0c3cac        6\n",
      "1  77d2b1f001cedff9a9a182fdda0c3cac       56\n",
      "2  77d2b1f001cedff9a9a182fdda0c3cac        8\n"
     ]
    }
   ],
   "source": [
    "import pandas as pd\n",
    "\n",
    "# Loading the data from CSV files\n",
    "data = pd.read_csv('blog_viewerpreference_202405090912.csv')\n",
    "\n",
    "# Creating the input_data DataFrame with correctly formatted 'finger_print_id'\n",
    "input_data = pd.DataFrame({\n",
    "    'finger_print_id': ['77d2b1f001cedff9a9a182fdda0c3cac', '77d2b1f001cedff9a9a182fdda0c3cac', '77d2b1f001cedff9a9a182fdda0c3cac'],\n",
    "    'post_id': [6, 56, 8]\n",
    "})\n",
    "\n",
    "# Printing the dataframes to verify\n",
    "print(\"Data DataFrame:\")\n",
    "print(data.head())\n",
    "print(\"\\nInput Data DataFrame:\")\n",
    "print(input_data.head())\n"
   ]
  },
  {
   "cell_type": "code",
   "execution_count": 7,
   "metadata": {},
   "outputs": [],
   "source": [
    "def calculate_similarity(input_data, data):\n",
    "    similar_users = {}\n",
    "    user_posts = data.groupby('finger_print_id')['post_id'].apply(set).to_dict()\n",
    "\n",
    "    for input_user_id in input_data['finger_print_id'].unique():\n",
    "        input_user_posts = set(input_data[input_data['finger_print_id'] == input_user_id]['post_id'])\n",
    "        similar_users[input_user_id] = []\n",
    "\n",
    "        for user_id, posts in user_posts.items():\n",
    "            common_posts = input_user_posts.intersection(posts)\n",
    "            if common_posts:\n",
    "                similarity_score = len(common_posts) / len(input_user_posts.union(posts))\n",
    "                similar_users[input_user_id].append((user_id, similarity_score))\n",
    "\n",
    "    return similar_users\n",
    "\n",
    "def find_top_similar_user(similar_users, top_n=1):\n",
    "    top_similar_users = {}\n",
    "\n",
    "    for input_user_id, user_similarities in similar_users.items():\n",
    "        user_similarities.sort(key=lambda x: x[1], reverse=True)\n",
    "        top_similar_users[input_user_id] = user_similarities[:top_n]\n",
    "\n",
    "    return top_similar_users\n",
    "\n",
    "def recommend_posts(input_data, similar_users, data):\n",
    "    recommendations = {}\n",
    "\n",
    "    for input_user_id, similar_user_list in similar_users.items():\n",
    "        recommendations[input_user_id] = []\n",
    "\n",
    "        for user_id, similarity_score in similar_user_list:\n",
    "            user_posts = set(data[data['finger_print_id'] == user_id]['post_id'])\n",
    "            input_user_posts = set(input_data[input_data['finger_print_id'] == input_user_id]['post_id'])\n",
    "            recommended_posts = user_posts - input_user_posts\n",
    "            recommendations[input_user_id].extend(recommended_posts)\n",
    "\n",
    "    return recommendations\n"
   ]
  },
  {
   "cell_type": "code",
   "execution_count": 8,
   "metadata": {},
   "outputs": [
    {
     "name": "stdout",
     "output_type": "stream",
     "text": [
      "------------------Top similar users-----------------------\n",
      "\n",
      "user_id 77d2b1f001cedff9a9a182fdda0c3cac has top similar to:\n",
      "------------------Matching similar personalize-----------------------\n",
      "Algorithm User Based ------>  Recommendations personalize:\n",
      "\n",
      "user_id 77d2b1f001cedff9a9a182fdda0c3cac should recommend the following posts:\n",
      "[]\n",
      "\n",
      "Recommended posts All listed: []\n"
     ]
    },
    {
     "ename": "IndexError",
     "evalue": "list index out of range",
     "output_type": "error",
     "traceback": [
      "\u001b[1;31m---------------------------------------------------------------------------\u001b[0m",
      "\u001b[1;31mIndexError\u001b[0m                                Traceback (most recent call last)",
      "Cell \u001b[1;32mIn[8], line 38\u001b[0m\n\u001b[0;32m     35\u001b[0m         matching_post_ids[input_user_id] \u001b[38;5;241m=\u001b[39m input_user_post_ids\u001b[38;5;241m.\u001b[39mintersection(matching_user_post_ids)\n\u001b[0;32m     37\u001b[0m \u001b[38;5;66;03m# Find the post_id with the most users among matching users\u001b[39;00m\n\u001b[1;32m---> 38\u001b[0m most_common_post_id \u001b[38;5;241m=\u001b[39m \u001b[43mCounter\u001b[49m\u001b[43m(\u001b[49m\u001b[43m[\u001b[49m\u001b[43mpost_id\u001b[49m\u001b[43m \u001b[49m\u001b[38;5;28;43;01mfor\u001b[39;49;00m\u001b[43m \u001b[49m\u001b[43mpost_ids\u001b[49m\u001b[43m \u001b[49m\u001b[38;5;129;43;01min\u001b[39;49;00m\u001b[43m \u001b[49m\u001b[43mmatching_post_ids\u001b[49m\u001b[38;5;241;43m.\u001b[39;49m\u001b[43mvalues\u001b[49m\u001b[43m(\u001b[49m\u001b[43m)\u001b[49m\u001b[43m \u001b[49m\u001b[38;5;28;43;01mfor\u001b[39;49;00m\u001b[43m \u001b[49m\u001b[43mpost_id\u001b[49m\u001b[43m \u001b[49m\u001b[38;5;129;43;01min\u001b[39;49;00m\u001b[43m \u001b[49m\u001b[43mpost_ids\u001b[49m\u001b[43m]\u001b[49m\u001b[43m)\u001b[49m\u001b[38;5;241;43m.\u001b[39;49m\u001b[43mmost_common\u001b[49m\u001b[43m(\u001b[49m\u001b[38;5;241;43m1\u001b[39;49m\u001b[43m)\u001b[49m\u001b[43m[\u001b[49m\u001b[38;5;241;43m0\u001b[39;49m\u001b[43m]\u001b[49m[\u001b[38;5;241m0\u001b[39m]\n",
      "\u001b[1;31mIndexError\u001b[0m: list index out of range"
     ]
    }
   ],
   "source": [
    "similarities = calculate_similarity(input_data, data)\n",
    "top_similar_users = find_top_similar_user(similarities, top_n=1)\n",
    "recommendations = recommend_posts(input_data, top_similar_users, data)\n",
    "\n",
    "print(\"------------------Top similar users-----------------------\\n\")\n",
    "for input_user_id, similar_user_list in top_similar_users.items():\n",
    "    print(f\"user_id {input_user_id} has top similar to:\")\n",
    "    for user_id, similarity_score in similar_user_list:\n",
    "        print(f\"  user_id {user_id} with similarity score: {similarity_score},\\n\")\n",
    "# Additional print statements\n",
    "print(\"------------------Matching similar personalize-----------------------\")\n",
    "for input_user_id, similar_user_list in top_similar_users.items():\n",
    "    for user_id, similarity_score in similar_user_list:\n",
    "        print(f\"Input user_id {input_user_id} has post_ids: {set(input_data[input_data['user_id'] == input_user_id]['post_id'])}\")\n",
    "        print(f\"Matching user_id {user_id} has post_ids: {set(data[data['user_id'] == user_id]['post_id'])}\")\n",
    "        print(\"\\n\")\n",
    "print(\"Algorithm User Based ------>  Recommendations personalize:\\n\")\n",
    "recommended_posts_listed = []\n",
    "\n",
    "for input_user_id, recommended_posts in recommendations.items():\n",
    "    print(f\"user_id {input_user_id} should recommend the following posts:\")\n",
    "    print(recommended_posts)\n",
    "    recommended_posts_listed.extend(recommended_posts)\n",
    "\n",
    "print(\"\\nRecommended posts All listed:\", recommended_posts_listed)\n",
    "from collections import Counter   \n",
    "# Dictionary to store matching user's post_ids\n",
    "matching_post_ids = {}\n",
    "\n",
    "# Collect matching user's post_ids\n",
    "for input_user_id, similar_user_list in top_similar_users.items():\n",
    "    for user_id, similarity_score in similar_user_list:\n",
    "        input_user_post_ids = set(input_data[input_data['finger_print_id'] == input_user_id]['post_id'])\n",
    "        matching_user_post_ids = set(data[data['user_id'] == user_id]['post_id'])\n",
    "        matching_post_ids[input_user_id] = input_user_post_ids.intersection(matching_user_post_ids)\n",
    "\n",
    "# Find the post_id with the most users among matching users\n",
    "most_common_post_id = Counter([post_id for post_ids in matching_post_ids.values() for post_id in post_ids]).most_common(1)[0][0]\n",
    "\n"
   ]
  }
 ],
 "metadata": {
  "kernelspec": {
   "display_name": "tf",
   "language": "python",
   "name": "python3"
  },
  "language_info": {
   "codemirror_mode": {
    "name": "ipython",
    "version": 3
   },
   "file_extension": ".py",
   "mimetype": "text/x-python",
   "name": "python",
   "nbconvert_exporter": "python",
   "pygments_lexer": "ipython3",
   "version": "3.9.18"
  }
 },
 "nbformat": 4,
 "nbformat_minor": 2
}
